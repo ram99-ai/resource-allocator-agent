{
 "cells": [
  {
   "cell_type": "code",
   "execution_count": 2,
   "id": "47b36420",
   "metadata": {},
   "outputs": [
    {
     "data": {
      "text/plain": [
       "True"
      ]
     },
     "execution_count": 2,
     "metadata": {},
     "output_type": "execute_result"
    }
   ],
   "source": [
    "from typing import Annotated, Optional, List, Dict, Any\n",
    "from langchain_core.messages import ToolMessage, AIMessage, SystemMessage, HumanMessage\n",
    "from langchain_core.tools import InjectedToolCallId, tool\n",
    "from pydantic import BaseModel\n",
    "from langchain_groq import ChatGroq\n",
    "from langgraph.checkpoint.memory import MemorySaver\n",
    "from langgraph.graph import StateGraph, START, END\n",
    "from langgraph.graph.message import add_messages\n",
    "from langgraph.prebuilt import ToolNode, tools_condition\n",
    "from langgraph.types import Command, interrupt\n",
    "from langchain_core.prompts import ChatPromptTemplate\n",
    "from langchain_core.runnables import Runnable\n",
    "import yaml\n",
    "import json\n",
    "from dotenv import load_dotenv\n",
    "\n",
    "load_dotenv()"
   ]
  },
  {
   "cell_type": "code",
   "execution_count": null,
   "id": "911de2ad",
   "metadata": {},
   "outputs": [],
   "source": [
    "class InputState(BaseModel):\n",
    "    messages: Annotated[list, add_messages]\n",
    "    exp: int\n",
    "    tech_stack: list[str]\n",
    "    on_project: int #0 or 1\n",
    "    missing_fields: list[str]\n",
    "\n"
   ]
  },
  {
   "cell_type": "code",
   "execution_count": null,
   "id": "831c0bad",
   "metadata": {},
   "outputs": [],
   "source": [
    "## messages=[AI message with Model Greetings, User query]"
   ]
  },
  {
   "cell_type": "markdown",
   "id": "da3c6c0e",
   "metadata": {},
   "source": []
  },
  {
   "cell_type": "code",
   "execution_count": 5,
   "id": "a0e7fdc1",
   "metadata": {},
   "outputs": [],
   "source": [
    "## Memory Saver\n",
    "from langgraph.checkpoint.memory import MemorySaver\n",
    "\n",
    "checkpointer = MemorySaver()"
   ]
  },
  {
   "cell_type": "code",
   "execution_count": null,
   "id": "5409692e",
   "metadata": {},
   "outputs": [],
   "source": [
    "def human_loop_node(state: InputState) -> InputState:\n",
    "    #Asks the user to provide the values of missing_fields\n",
    "\n",
    "    #checks the input state missing_fields \n",
    "    #if missing_fields not empty then asks the user for those fields\n",
    "    if state.missing_fields\n",
    "\n",
    "    pass"
   ]
  }
 ],
 "metadata": {
  "kernelspec": {
   "display_name": "venv",
   "language": "python",
   "name": "python3"
  },
  "language_info": {
   "codemirror_mode": {
    "name": "ipython",
    "version": 3
   },
   "file_extension": ".py",
   "mimetype": "text/x-python",
   "name": "python",
   "nbconvert_exporter": "python",
   "pygments_lexer": "ipython3",
   "version": "3.11.0"
  }
 },
 "nbformat": 4,
 "nbformat_minor": 5
}
